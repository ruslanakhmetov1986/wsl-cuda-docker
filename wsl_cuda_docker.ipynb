{
  "nbformat": 4,
  "nbformat_minor": 0,
  "metadata": {
    "colab": {
      "name": "wsl-cuda-docker.ipynb",
      "provenance": [],
      "authorship_tag": "ABX9TyP0hYmUyDOkN8dGd8nJ859y",
      "include_colab_link": true
    },
    "kernelspec": {
      "name": "python3",
      "display_name": "Python 3"
    },
    "language_info": {
      "name": "python"
    }
  },
  "cells": [
    {
      "cell_type": "markdown",
      "metadata": {
        "id": "view-in-github",
        "colab_type": "text"
      },
      "source": [
        "<a href=\"https://colab.research.google.com/github/ruslanakhmetov1986/wsl-cuda-docker/blob/main/wsl_cuda_docker.ipynb\" target=\"_parent\"><img src=\"https://colab.research.google.com/assets/colab-badge.svg\" alt=\"Open In Colab\"/></a>"
      ]
    },
    {
      "cell_type": "markdown",
      "metadata": {
        "id": "ReFocHxpLMaN"
      },
      "source": [
        "## Benchmark wsl cuda"
      ]
    },
    {
      "cell_type": "code",
      "metadata": {
        "id": "DxqnHx5hLv0B"
      },
      "source": [
        "!nvidia-smi"
      ],
      "execution_count": null,
      "outputs": []
    },
    {
      "cell_type": "code",
      "metadata": {
        "id": "f6g5LCNcLCtu"
      },
      "source": [
        "%cd /usr/local/cuda-11.4/samples/4_Finance/BlackScholes\n",
        "!make BlackScholes\n",
        "!./BlackScholes"
      ],
      "execution_count": null,
      "outputs": []
    },
    {
      "cell_type": "markdown",
      "metadata": {
        "id": "XiudeufyMKAb"
      },
      "source": [
        "## Wsl cuda \n",
        "\n"
      ]
    },
    {
      "cell_type": "markdown",
      "metadata": {
        "id": "nqsMlp1QNSc1"
      },
      "source": [
        "источник: https://docs.nvidia.com/cuda/wsl-user-guide/index.html"
      ]
    },
    {
      "cell_type": "markdown",
      "metadata": {
        "id": "gu4Y5UKWNl6q"
      },
      "source": [
        ""
      ]
    },
    {
      "cell_type": "code",
      "metadata": {
        "id": "OA1rQmEqM-g7"
      },
      "source": [
        "управление докер:"
      ],
      "execution_count": null,
      "outputs": []
    },
    {
      "cell_type": "code",
      "metadata": {
        "id": "MxD4rgX2NF9_"
      },
      "source": [
        "!sudo service docker stop\n",
        "!sudo service docker start\n",
        "!sudo dockerd"
      ],
      "execution_count": null,
      "outputs": []
    },
    {
      "cell_type": "markdown",
      "metadata": {
        "id": "mmigMKYUMcK0"
      },
      "source": [
        "Запуск простых контейнеров CUDA:"
      ]
    },
    {
      "cell_type": "code",
      "metadata": {
        "id": "NvlvUNpjMfYH"
      },
      "source": [
        "!docker run --gpus all nvcr.io/nvidia/k8s/cuda-sample:nbody nbody -gpu -benchmark "
      ],
      "execution_count": null,
      "outputs": []
    },
    {
      "cell_type": "markdown",
      "metadata": {
        "id": "oSWVhCi_Mm_Y"
      },
      "source": [
        "Записные книжки Jupyter:"
      ]
    },
    {
      "cell_type": "code",
      "metadata": {
        "id": "a3Rl4kOLMqef"
      },
      "source": [
        "!docker run -it --gpus all -p 8888:8888 tensorflow/tensorflow:latest-gpu-py3-jupyter"
      ],
      "execution_count": null,
      "outputs": []
    },
    {
      "cell_type": "markdown",
      "metadata": {
        "id": "JCi0l820Mwu0"
      },
      "source": [
        " Контейнеры платформы глубокого обучения:\n",
        "\n"
      ]
    },
    {
      "cell_type": "code",
      "metadata": {
        "id": "C37DZFMLM0Hm"
      },
      "source": [
        "!docker run --gpus all -it --shm-size=1g --ulimit memlock=-1 --ulimit stack=67108864 nvcr.io/nvidia/tensorflow:20.03-tf2-py3"
      ],
      "execution_count": null,
      "outputs": []
    }
  ]
}